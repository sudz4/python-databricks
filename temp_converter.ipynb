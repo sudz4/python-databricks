{
 "cells": [
  {
   "attachments": {},
   "cell_type": "markdown",
   "metadata": {},
   "source": [
    "| Temperature Conversion | Celsius <-> Farenheight |\n",
    "| ----------- | ----------- |"
   ]
  },
  {
   "attachments": {},
   "cell_type": "markdown",
   "metadata": {},
   "source": [
    "Basic function"
   ]
  },
  {
   "cell_type": "code",
   "execution_count": 2,
   "metadata": {},
   "outputs": [],
   "source": [
    "\n",
    "def convert_temperature(temp, unit):\n",
    "    if unit == 'F':\n",
    "        return (temp - 32) * 5/9\n",
    "    else:\n",
    "        return temp * 9/5 + 32\n"
   ]
  },
  {
   "cell_type": "code",
   "execution_count": 3,
   "metadata": {},
   "outputs": [
    {
     "name": "stdout",
     "output_type": "stream",
     "text": [
      "140.0\n",
      "-12.222222222222221\n"
     ]
    }
   ],
   "source": [
    "print(convert_temperature(60, 'C')) \n",
    "print(convert_temperature(10, 'F'))  "
   ]
  },
  {
   "attachments": {},
   "cell_type": "markdown",
   "metadata": {},
   "source": [
    "Wrapping th function in try, except statements"
   ]
  },
  {
   "cell_type": "code",
   "execution_count": null,
   "metadata": {},
   "outputs": [],
   "source": [
    "def convert_temperature(temp, unit):\n",
    "    try:\n",
    "        if unit == 'F':\n",
    "            return (temp - 32) * 5/9\n",
    "        elif unit == 'C':\n",
    "            return temp * 9/5 + 32\n",
    "        else:\n",
    "            raise ValueError(\"Unrecognized unit of measurement\")\n",
    "    except ValueError as error:\n",
    "        print(error)\n",
    "\n",
    "print(convert_temperature(20, 'C')) # output: 68.0\n",
    "print(convert_temperature(44,'F'))  # output: 6.666666666666667\n",
    "print(convert_temperature(44,'X'))  # output: \"Unrecognized unit of measurement\""
   ]
  },
  {
   "attachments": {},
   "cell_type": "markdown",
   "metadata": {},
   "source": [
    "Basic function with some simple error handling\n",
    "* this seems to work the best for this use case\n",
    "* the try, accept statements add uncessary complexity (in this simple use case)"
   ]
  },
  {
   "cell_type": "code",
   "execution_count": 33,
   "metadata": {},
   "outputs": [],
   "source": [
    "def convert_temperature(temp, unit):\n",
    "    if unit == 'F':\n",
    "        return (temp - 32) * 5/9\n",
    "    elif unit == 'C':\n",
    "        return temp * 9/5 + 32\n",
    "    else:\n",
    "        return \"ERROR: do you know what a unit of measurement is? 🤣\""
   ]
  },
  {
   "cell_type": "code",
   "execution_count": 34,
   "metadata": {},
   "outputs": [
    {
     "name": "stdout",
     "output_type": "stream",
     "text": [
      "68.0\n",
      "6.666666666666667\n",
      "ERROR: do you know what a unit of measurement is? 🤣\n"
     ]
    }
   ],
   "source": [
    "# celius\n",
    "print(convert_temperature(20, 'C')) # celsius\n",
    "print(convert_temperature(44,'F')) # farenheight\n",
    "print(convert_temperature(44,'X')) # ERROR"
   ]
  },
  {
   "attachments": {},
   "cell_type": "markdown",
   "metadata": {},
   "source": [
    "| END OF PROGRAM | Below = Notes, WIP, Archived work |\n",
    "| ----------- | ----------- |"
   ]
  }
 ],
 "metadata": {
  "kernelspec": {
   "display_name": "Python 3",
   "language": "python",
   "name": "python3"
  },
  "language_info": {
   "codemirror_mode": {
    "name": "ipython",
    "version": 3
   },
   "file_extension": ".py",
   "mimetype": "text/x-python",
   "name": "python",
   "nbconvert_exporter": "python",
   "pygments_lexer": "ipython3",
   "version": "3.11.1"
  },
  "orig_nbformat": 4,
  "vscode": {
   "interpreter": {
    "hash": "aee8b7b246df8f9039afb4144a1f6fd8d2ca17a180786b69acc140d282b71a49"
   }
  }
 },
 "nbformat": 4,
 "nbformat_minor": 2
}
