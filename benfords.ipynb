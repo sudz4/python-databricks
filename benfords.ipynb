{
 "cells": [
  {
   "attachments": {},
   "cell_type": "markdown",
   "metadata": {},
   "source": [
    "| Benfords Law | Fraud detection |\n",
    "| ----------- | ----------- |\n",
    "\n",
    "Benford's law is a statistical law that describes the distribution of leading digits in naturally occurring sets of data. It states that in many real-life datasets, the digit 1 appears as the leading digit about 30% of the time, and larger digits occur as the leading digit less frequently. For example, in a dataset of numbers from real-life sources, you would expect to see the digit 1 as the leading digit about three times as often as the digit 9."
   ]
  },
  {
   "cell_type": "code",
   "execution_count": 1,
   "metadata": {},
   "outputs": [],
   "source": [
    "import pandas as pd\n",
    "import numpy as np\n",
    "import random\n",
    "\n",
    "from collections import defaultdict\n",
    "from math import log10, sqrt\n",
    "\n"
   ]
  },
  {
   "cell_type": "code",
   "execution_count": 3,
   "metadata": {},
   "outputs": [
    {
     "name": "stdout",
     "output_type": "stream",
     "text": [
      "    TransactionDescription TransactionDate SubmittedDate  Amount\n",
      "0               Hotel stay      2022-03-27    2022-04-03   89.44\n",
      "1               Hotel stay      2022-04-19    2022-04-29  192.07\n",
      "2            Entertainment      2022-11-24    2022-11-27  137.54\n",
      "3               Car rental      2022-02-02    2022-02-04  195.13\n",
      "4            Entertainment      2022-05-05    2022-05-13  183.58\n",
      "..                     ...             ...           ...     ...\n",
      "995        Office supplies      2022-11-15    2022-11-19  103.43\n",
      "996             Car rental      2022-12-24    2023-01-02  197.24\n",
      "997       Meal with client      2022-10-29    2022-11-07  128.92\n",
      "998       Meal with client      2022-08-23    2022-09-01  115.33\n",
      "999          Entertainment      2022-01-12    2022-01-23  148.48\n",
      "\n",
      "[1000 rows x 4 columns]\n"
     ]
    }
   ],
   "source": [
    "# import from directory\n",
    "from employee import employee_df\n",
    "from transactions import trans_df"
   ]
  },
  {
   "cell_type": "code",
   "execution_count": 4,
   "metadata": {},
   "outputs": [
    {
     "data": {
      "text/html": [
       "<div>\n",
       "<style scoped>\n",
       "    .dataframe tbody tr th:only-of-type {\n",
       "        vertical-align: middle;\n",
       "    }\n",
       "\n",
       "    .dataframe tbody tr th {\n",
       "        vertical-align: top;\n",
       "    }\n",
       "\n",
       "    .dataframe thead th {\n",
       "        text-align: right;\n",
       "    }\n",
       "</style>\n",
       "<table border=\"1\" class=\"dataframe\">\n",
       "  <thead>\n",
       "    <tr style=\"text-align: right;\">\n",
       "      <th></th>\n",
       "      <th>EmployeeID</th>\n",
       "      <th>FirstName</th>\n",
       "      <th>LastName</th>\n",
       "      <th>Username</th>\n",
       "    </tr>\n",
       "  </thead>\n",
       "  <tbody>\n",
       "    <tr>\n",
       "      <th>0</th>\n",
       "      <td>0001</td>\n",
       "      <td>John</td>\n",
       "      <td>Smith</td>\n",
       "      <td>JSmith</td>\n",
       "    </tr>\n",
       "    <tr>\n",
       "      <th>1</th>\n",
       "      <td>0002</td>\n",
       "      <td>Jane</td>\n",
       "      <td>Doe</td>\n",
       "      <td>JDoe</td>\n",
       "    </tr>\n",
       "    <tr>\n",
       "      <th>2</th>\n",
       "      <td>0003</td>\n",
       "      <td>Bob</td>\n",
       "      <td>Williams</td>\n",
       "      <td>BWilliams</td>\n",
       "    </tr>\n",
       "    <tr>\n",
       "      <th>3</th>\n",
       "      <td>0004</td>\n",
       "      <td>Alice</td>\n",
       "      <td>Johnson</td>\n",
       "      <td>AJohnson</td>\n",
       "    </tr>\n",
       "    <tr>\n",
       "      <th>4</th>\n",
       "      <td>0005</td>\n",
       "      <td>Mike</td>\n",
       "      <td>Brown</td>\n",
       "      <td>MBrown</td>\n",
       "    </tr>\n",
       "  </tbody>\n",
       "</table>\n",
       "</div>"
      ],
      "text/plain": [
       "  EmployeeID FirstName  LastName   Username\n",
       "0       0001      John     Smith     JSmith\n",
       "1       0002      Jane       Doe       JDoe\n",
       "2       0003       Bob  Williams  BWilliams\n",
       "3       0004     Alice   Johnson   AJohnson\n",
       "4       0005      Mike     Brown     MBrown"
      ]
     },
     "execution_count": 4,
     "metadata": {},
     "output_type": "execute_result"
    }
   ],
   "source": [
    "# look at employee df\n",
    "employee_df.head(5)"
   ]
  },
  {
   "cell_type": "code",
   "execution_count": 5,
   "metadata": {},
   "outputs": [
    {
     "data": {
      "text/html": [
       "<div>\n",
       "<style scoped>\n",
       "    .dataframe tbody tr th:only-of-type {\n",
       "        vertical-align: middle;\n",
       "    }\n",
       "\n",
       "    .dataframe tbody tr th {\n",
       "        vertical-align: top;\n",
       "    }\n",
       "\n",
       "    .dataframe thead th {\n",
       "        text-align: right;\n",
       "    }\n",
       "</style>\n",
       "<table border=\"1\" class=\"dataframe\">\n",
       "  <thead>\n",
       "    <tr style=\"text-align: right;\">\n",
       "      <th></th>\n",
       "      <th>TransactionDescription</th>\n",
       "      <th>TransactionDate</th>\n",
       "      <th>SubmittedDate</th>\n",
       "      <th>Amount</th>\n",
       "    </tr>\n",
       "  </thead>\n",
       "  <tbody>\n",
       "    <tr>\n",
       "      <th>0</th>\n",
       "      <td>Hotel stay</td>\n",
       "      <td>2022-03-27</td>\n",
       "      <td>2022-04-03</td>\n",
       "      <td>89.44</td>\n",
       "    </tr>\n",
       "    <tr>\n",
       "      <th>1</th>\n",
       "      <td>Hotel stay</td>\n",
       "      <td>2022-04-19</td>\n",
       "      <td>2022-04-29</td>\n",
       "      <td>192.07</td>\n",
       "    </tr>\n",
       "    <tr>\n",
       "      <th>2</th>\n",
       "      <td>Entertainment</td>\n",
       "      <td>2022-11-24</td>\n",
       "      <td>2022-11-27</td>\n",
       "      <td>137.54</td>\n",
       "    </tr>\n",
       "    <tr>\n",
       "      <th>3</th>\n",
       "      <td>Car rental</td>\n",
       "      <td>2022-02-02</td>\n",
       "      <td>2022-02-04</td>\n",
       "      <td>195.13</td>\n",
       "    </tr>\n",
       "    <tr>\n",
       "      <th>4</th>\n",
       "      <td>Entertainment</td>\n",
       "      <td>2022-05-05</td>\n",
       "      <td>2022-05-13</td>\n",
       "      <td>183.58</td>\n",
       "    </tr>\n",
       "  </tbody>\n",
       "</table>\n",
       "</div>"
      ],
      "text/plain": [
       "  TransactionDescription TransactionDate SubmittedDate  Amount\n",
       "0             Hotel stay      2022-03-27    2022-04-03   89.44\n",
       "1             Hotel stay      2022-04-19    2022-04-29  192.07\n",
       "2          Entertainment      2022-11-24    2022-11-27  137.54\n",
       "3             Car rental      2022-02-02    2022-02-04  195.13\n",
       "4          Entertainment      2022-05-05    2022-05-13  183.58"
      ]
     },
     "execution_count": 5,
     "metadata": {},
     "output_type": "execute_result"
    }
   ],
   "source": [
    "# look at transactions df\n",
    "trans_df.head(5)"
   ]
  },
  {
   "cell_type": "code",
   "execution_count": 6,
   "metadata": {},
   "outputs": [],
   "source": [
    "# create a dataframe from transactions\n",
    "benfords_df = pd.DataFrame(trans_df)"
   ]
  },
  {
   "cell_type": "code",
   "execution_count": 7,
   "metadata": {},
   "outputs": [
    {
     "data": {
      "text/plain": [
       "pandas.core.series.Series"
      ]
     },
     "execution_count": 7,
     "metadata": {},
     "output_type": "execute_result"
    }
   ],
   "source": [
    "# get employee ids (primary key)\n",
    "employee_ids = employee_df.iloc[:,0]\n",
    "\n",
    "type(employee_ids)"
   ]
  },
  {
   "cell_type": "code",
   "execution_count": 8,
   "metadata": {},
   "outputs": [],
   "source": [
    "# convert series to list\n",
    "employee_ids_list = employee_ids.to_list()\n",
    "\n",
    "# employee_ids_list"
   ]
  },
  {
   "cell_type": "code",
   "execution_count": 9,
   "metadata": {},
   "outputs": [],
   "source": [
    "# use apply() to randomly apply valuse from the list randomly to the column\n",
    "benfords_df['EmployeeID'] = benfords_df['Amount'].apply(lambda x: random.choice(employee_ids_list))"
   ]
  },
  {
   "cell_type": "code",
   "execution_count": 10,
   "metadata": {},
   "outputs": [
    {
     "data": {
      "text/html": [
       "<div>\n",
       "<style scoped>\n",
       "    .dataframe tbody tr th:only-of-type {\n",
       "        vertical-align: middle;\n",
       "    }\n",
       "\n",
       "    .dataframe tbody tr th {\n",
       "        vertical-align: top;\n",
       "    }\n",
       "\n",
       "    .dataframe thead th {\n",
       "        text-align: right;\n",
       "    }\n",
       "</style>\n",
       "<table border=\"1\" class=\"dataframe\">\n",
       "  <thead>\n",
       "    <tr style=\"text-align: right;\">\n",
       "      <th></th>\n",
       "      <th>TransactionDescription</th>\n",
       "      <th>TransactionDate</th>\n",
       "      <th>SubmittedDate</th>\n",
       "      <th>Amount</th>\n",
       "      <th>EmployeeID</th>\n",
       "    </tr>\n",
       "  </thead>\n",
       "  <tbody>\n",
       "    <tr>\n",
       "      <th>0</th>\n",
       "      <td>Hotel stay</td>\n",
       "      <td>2022-03-27</td>\n",
       "      <td>2022-04-03</td>\n",
       "      <td>89.44</td>\n",
       "      <td>0004</td>\n",
       "    </tr>\n",
       "    <tr>\n",
       "      <th>1</th>\n",
       "      <td>Hotel stay</td>\n",
       "      <td>2022-04-19</td>\n",
       "      <td>2022-04-29</td>\n",
       "      <td>192.07</td>\n",
       "      <td>0013</td>\n",
       "    </tr>\n",
       "    <tr>\n",
       "      <th>2</th>\n",
       "      <td>Entertainment</td>\n",
       "      <td>2022-11-24</td>\n",
       "      <td>2022-11-27</td>\n",
       "      <td>137.54</td>\n",
       "      <td>0100</td>\n",
       "    </tr>\n",
       "    <tr>\n",
       "      <th>3</th>\n",
       "      <td>Car rental</td>\n",
       "      <td>2022-02-02</td>\n",
       "      <td>2022-02-04</td>\n",
       "      <td>195.13</td>\n",
       "      <td>0073</td>\n",
       "    </tr>\n",
       "    <tr>\n",
       "      <th>4</th>\n",
       "      <td>Entertainment</td>\n",
       "      <td>2022-05-05</td>\n",
       "      <td>2022-05-13</td>\n",
       "      <td>183.58</td>\n",
       "      <td>0039</td>\n",
       "    </tr>\n",
       "    <tr>\n",
       "      <th>...</th>\n",
       "      <td>...</td>\n",
       "      <td>...</td>\n",
       "      <td>...</td>\n",
       "      <td>...</td>\n",
       "      <td>...</td>\n",
       "    </tr>\n",
       "    <tr>\n",
       "      <th>995</th>\n",
       "      <td>Office supplies</td>\n",
       "      <td>2022-11-15</td>\n",
       "      <td>2022-11-19</td>\n",
       "      <td>103.43</td>\n",
       "      <td>0012</td>\n",
       "    </tr>\n",
       "    <tr>\n",
       "      <th>996</th>\n",
       "      <td>Car rental</td>\n",
       "      <td>2022-12-24</td>\n",
       "      <td>2023-01-02</td>\n",
       "      <td>197.24</td>\n",
       "      <td>0007</td>\n",
       "    </tr>\n",
       "    <tr>\n",
       "      <th>997</th>\n",
       "      <td>Meal with client</td>\n",
       "      <td>2022-10-29</td>\n",
       "      <td>2022-11-07</td>\n",
       "      <td>128.92</td>\n",
       "      <td>0027</td>\n",
       "    </tr>\n",
       "    <tr>\n",
       "      <th>998</th>\n",
       "      <td>Meal with client</td>\n",
       "      <td>2022-08-23</td>\n",
       "      <td>2022-09-01</td>\n",
       "      <td>115.33</td>\n",
       "      <td>0034</td>\n",
       "    </tr>\n",
       "    <tr>\n",
       "      <th>999</th>\n",
       "      <td>Entertainment</td>\n",
       "      <td>2022-01-12</td>\n",
       "      <td>2022-01-23</td>\n",
       "      <td>148.48</td>\n",
       "      <td>0091</td>\n",
       "    </tr>\n",
       "  </tbody>\n",
       "</table>\n",
       "<p>1000 rows × 5 columns</p>\n",
       "</div>"
      ],
      "text/plain": [
       "    TransactionDescription TransactionDate SubmittedDate  Amount EmployeeID\n",
       "0               Hotel stay      2022-03-27    2022-04-03   89.44       0004\n",
       "1               Hotel stay      2022-04-19    2022-04-29  192.07       0013\n",
       "2            Entertainment      2022-11-24    2022-11-27  137.54       0100\n",
       "3               Car rental      2022-02-02    2022-02-04  195.13       0073\n",
       "4            Entertainment      2022-05-05    2022-05-13  183.58       0039\n",
       "..                     ...             ...           ...     ...        ...\n",
       "995        Office supplies      2022-11-15    2022-11-19  103.43       0012\n",
       "996             Car rental      2022-12-24    2023-01-02  197.24       0007\n",
       "997       Meal with client      2022-10-29    2022-11-07  128.92       0027\n",
       "998       Meal with client      2022-08-23    2022-09-01  115.33       0034\n",
       "999          Entertainment      2022-01-12    2022-01-23  148.48       0091\n",
       "\n",
       "[1000 rows x 5 columns]"
      ]
     },
     "execution_count": 10,
     "metadata": {},
     "output_type": "execute_result"
    }
   ],
   "source": [
    "benfords_df"
   ]
  },
  {
   "attachments": {},
   "cell_type": "markdown",
   "metadata": {},
   "source": [
    "The data is generated randomly and should comply with benfords law. \n",
    "Let's see though.."
   ]
  },
  {
   "cell_type": "code",
   "execution_count": 11,
   "metadata": {},
   "outputs": [],
   "source": [
    "def test_benfords_law(data):\n",
    "    # Count the number of times each digit appears as the leading digit in the dataset\n",
    "    leading_digits = defaultdict(int)\n",
    "    for number in data:\n",
    "        # Convert the number to a string and get the first character (the leading digit)\n",
    "        leading_digit = str(number)[0]\n",
    "        leading_digits[leading_digit] += 1\n",
    "\n",
    "    # Calculate the expected distribution of leading digits according to Benford's law\n",
    "    expected_distribution = {str(d): log10(d+1) - log10(d) for d in range(1, 10)}\n",
    "\n",
    "    # Compare the observed and expected distributions\n",
    "    for d, count in leading_digits.items():\n",
    "        expected_count = expected_distribution[d] * len(data)\n",
    "        if abs(count - expected_count) > 2 * sqrt(expected_count):  \n",
    "            # Use the chi-squared test to determine whether the difference is statistically significant\n",
    "            return False\n",
    "\n",
    "    return True"
   ]
  },
  {
   "cell_type": "code",
   "execution_count": 12,
   "metadata": {},
   "outputs": [
    {
     "data": {
      "text/plain": [
       "False"
      ]
     },
     "execution_count": 12,
     "metadata": {},
     "output_type": "execute_result"
    }
   ],
   "source": [
    "# test on the data\n",
    "test_benfords_law(benfords_df['Amount'])"
   ]
  },
  {
   "cell_type": "code",
   "execution_count": 13,
   "metadata": {},
   "outputs": [],
   "source": [
    "# return the benford offenders\n",
    "\n",
    "def benford_offenders(data):\n",
    "    # Count the number of times each digit appears as the leading digit in the dataset\n",
    "    leading_digits = defaultdict(int)\n",
    "    for number in data:\n",
    "        # Convert the number to a string and get the first character (the leading digit)\n",
    "        leading_digit = str(number)[0]\n",
    "        leading_digits[leading_digit] += 1\n",
    "\n",
    "    # Calculate the expected distribution of leading digits according to Benford's law\n",
    "    expected_distribution = {str(d): log10(d+1) - log10(d) for d in range(1, 10)}\n",
    "\n",
    "    # Compare the observed and expected distributions\n",
    "    noncompliant_rows = []\n",
    "    for d, count in leading_digits.items():\n",
    "        expected_count = expected_distribution[d] * len(data)\n",
    "        if abs(count - expected_count) > 2 * sqrt(expected_count):  # Use the chi-squared test to determine whether the difference is statistically significant\n",
    "            noncompliant_rows.extend([row for row in data if str(row)[0] == d])\n",
    "\n",
    "    return noncompliant_rows\n"
   ]
  },
  {
   "cell_type": "code",
   "execution_count": null,
   "metadata": {},
   "outputs": [],
   "source": [
    "benford_offenders(benfords_df['Amount'])"
   ]
  },
  {
   "cell_type": "code",
   "execution_count": 20,
   "metadata": {},
   "outputs": [
    {
     "data": {
      "text/plain": [
       "1000"
      ]
     },
     "execution_count": 20,
     "metadata": {},
     "output_type": "execute_result"
    }
   ],
   "source": [
    "total = len(benfords_df['Amount'])\n",
    "\n",
    "total"
   ]
  },
  {
   "cell_type": "code",
   "execution_count": 18,
   "metadata": {},
   "outputs": [
    {
     "data": {
      "text/plain": [
       "872"
      ]
     },
     "execution_count": 18,
     "metadata": {},
     "output_type": "execute_result"
    }
   ],
   "source": [
    "offenders = benford_offenders(benfords_df['Amount'])\n",
    "total_offenders = len(offenders)\n",
    "\n",
    "total_offenders"
   ]
  },
  {
   "cell_type": "code",
   "execution_count": 25,
   "metadata": {},
   "outputs": [
    {
     "data": {
      "text/plain": [
       "87.2"
      ]
     },
     "execution_count": 25,
     "metadata": {},
     "output_type": "execute_result"
    }
   ],
   "source": [
    "perc_offend = ((total_offenders/total)*100)\n",
    "\n",
    "perc_offend"
   ]
  },
  {
   "attachments": {},
   "cell_type": "markdown",
   "metadata": {},
   "source": [
    "| END OF PROGRAM |\n",
    "|----------------|\n",
    "\n",
    "Hmm so this data isn't really random.\n",
    "Nearly 90% of rows violate benfords law"
   ]
  }
 ],
 "metadata": {
  "kernelspec": {
   "display_name": "DATABRICKS_venv",
   "language": "python",
   "name": "python3"
  },
  "language_info": {
   "codemirror_mode": {
    "name": "ipython",
    "version": 3
   },
   "file_extension": ".py",
   "mimetype": "text/x-python",
   "name": "python",
   "nbconvert_exporter": "python",
   "pygments_lexer": "ipython3",
   "version": "3.11.1"
  },
  "orig_nbformat": 4,
  "vscode": {
   "interpreter": {
    "hash": "4cfdeed77ac06426d9f5918232fabb6b6553bb59c1018d85bcd68b086ee23228"
   }
  }
 },
 "nbformat": 4,
 "nbformat_minor": 2
}
