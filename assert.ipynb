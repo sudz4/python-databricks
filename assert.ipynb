{
 "cells": [
  {
   "attachments": {},
   "cell_type": "markdown",
   "metadata": {},
   "source": [
    "| assert() statement | Practice |\n",
    "| ----------- | ----------- |\n",
    "\n"
   ]
  },
  {
   "cell_type": "code",
   "execution_count": null,
   "metadata": {},
   "outputs": [],
   "source": [
    "\"\"\"The syntax of the 'assert' statement is:\"\"\"\n",
    "assert condition, message"
   ]
  },
  {
   "cell_type": "code",
   "execution_count": 1,
   "metadata": {},
   "outputs": [],
   "source": [
    "# Here, condition is a boolean expression that is evaluated to True or False, \n",
    "# and message is an optional string that is displayed when the assertion fails (i.e. when condition is False).\n",
    "x = 10\n",
    "assert x > 0, \"x should be positive\""
   ]
  },
  {
   "cell_type": "code",
   "execution_count": 2,
   "metadata": {},
   "outputs": [
    {
     "ename": "AssertionError",
     "evalue": "x should be positive",
     "output_type": "error",
     "traceback": [
      "\u001b[0;31m---------------------------------------------------------------------------\u001b[0m",
      "\u001b[0;31mAssertionError\u001b[0m                            Traceback (most recent call last)",
      "Cell \u001b[0;32mIn[2], line 2\u001b[0m\n\u001b[1;32m      1\u001b[0m x \u001b[39m=\u001b[39m \u001b[39m-\u001b[39m\u001b[39m10\u001b[39m\n\u001b[0;32m----> 2\u001b[0m \u001b[39massert\u001b[39;00m x \u001b[39m>\u001b[39m \u001b[39m0\u001b[39m, \u001b[39m\"\u001b[39m\u001b[39mx should be positive\u001b[39m\u001b[39m\"\u001b[39m\n",
      "\u001b[0;31mAssertionError\u001b[0m: x should be positive"
     ]
    }
   ],
   "source": [
    "# triggers an AssertionError\n",
    "x = -10\n",
    "assert x > 0, \"x should be positive\"\n"
   ]
  },
  {
   "attachments": {},
   "cell_type": "markdown",
   "metadata": {},
   "source": [
    "Further testing\n",
    "* assert that a table contains x rows"
   ]
  },
  {
   "cell_type": "code",
   "execution_count": 10,
   "metadata": {},
   "outputs": [],
   "source": [
    "table = [    [\"ID\", \"Name\", \"Age\"],\n",
    "    [1, \"Alice\", 23],\n",
    "    [2, \"Bob\", 25],\n",
    "    [3, \"Charlie\", 30],\n",
    "    [4, \"Dave\", 35],\n",
    "    [5, \"Eve\", 28],\n",
    "    [6, \"Frank\", 32],\n",
    "    [7, \"Gary\", 40],\n",
    "    [8, \"Hannah\", 37],\n",
    "    [9, \"Ivy\", 29],\n",
    "    [10, \"John\", 27]\n",
    "]\n",
    "\n",
    "# Verify that there are 10 rows in the table\n",
    "assert len(table) == 11, \"The table should have 11 rows  and (10 data entries)\""
   ]
  }
 ],
 "metadata": {
  "kernelspec": {
   "display_name": "Python 3",
   "language": "python",
   "name": "python3"
  },
  "language_info": {
   "codemirror_mode": {
    "name": "ipython",
    "version": 3
   },
   "file_extension": ".py",
   "mimetype": "text/x-python",
   "name": "python",
   "nbconvert_exporter": "python",
   "pygments_lexer": "ipython3",
   "version": "3.11.1"
  },
  "orig_nbformat": 4,
  "vscode": {
   "interpreter": {
    "hash": "aee8b7b246df8f9039afb4144a1f6fd8d2ca17a180786b69acc140d282b71a49"
   }
  }
 },
 "nbformat": 4,
 "nbformat_minor": 2
}
