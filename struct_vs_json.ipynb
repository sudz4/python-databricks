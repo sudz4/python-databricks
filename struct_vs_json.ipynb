{
 "cells": [
  {
   "attachments": {},
   "cell_type": "markdown",
   "metadata": {},
   "source": [
    "| structs | structs and JSON modifications and comparisons |\n",
    "| ----------- | ----------- |\n"
   ]
  },
  {
   "cell_type": "code",
   "execution_count": 1,
   "metadata": {},
   "outputs": [],
   "source": [
    "from typing import NamedTuple"
   ]
  },
  {
   "attachments": {},
   "cell_type": "markdown",
   "metadata": {},
   "source": [
    "structs\n",
    "* In programming, a \"struct\" (short for \"structure\") is a composite data type that groups together related data items into a single unit.\n",
    "* A struct is similar to an object in object-oriented programming, or a record in database programming. It allows you to define a data type that has multiple fields or attributes, each with its own data type and value.\n",
    "* For example, you can use a struct to represent a student record, with fields such as \"ID\", \"Name\", \"Age\", \"Gender\", and \"Grade\". You can then create instances of the struct type to represent individual students, and access or modify their fields as needed.\n",
    "\n"
   ]
  },
  {
   "cell_type": "code",
   "execution_count": 6,
   "metadata": {},
   "outputs": [
    {
     "name": "stdout",
     "output_type": "stream",
     "text": [
      "Alice\n",
      "23\n",
      "3.8\n"
     ]
    }
   ],
   "source": [
    "class Student(NamedTuple):\n",
    "    id: int\n",
    "    name: str\n",
    "    age: int\n",
    "    gender: str\n",
    "    grade: float\n",
    "\n",
    "# create an instance of the Student struct\n",
    "student1 = Student(id=1, name=\"Alice\", age=23, gender=\"Female\", grade=3.8)\n",
    "\n",
    "# access the fields of the struct\n",
    "print(student1.name)  # Output: \"Alice\"\n",
    "print(student1.age)   # Output: 23\n",
    "print(student1.grade)   # Output: 23"
   ]
  },
  {
   "attachments": {},
   "cell_type": "markdown",
   "metadata": {},
   "source": [
    "JSON\n",
    "\n",
    "To access or modify the properties of the object\n",
    "* you can use dot notation or square bracket notation,\n",
    "* similar to how you would access the fields of a struct in Python.\n",
    "\n"
   ]
  },
  {
   "cell_type": "code",
   "execution_count": 8,
   "metadata": {},
   "outputs": [
    {
     "data": {
      "text/plain": [
       "{'id': 1, 'name': 'Alice', 'age': 23, 'gender': 'Female', 'grade': 3.8}"
      ]
     },
     "execution_count": 8,
     "metadata": {},
     "output_type": "execute_result"
    }
   ],
   "source": [
    "# JSON data\n",
    "{\n",
    "    \"id\": 1,\n",
    "    \"name\": \"Alice\",\n",
    "    \"age\": 23,\n",
    "    \"gender\": \"Female\",\n",
    "    \"grade\": 3.8\n",
    "}"
   ]
  },
  {
   "cell_type": "code",
   "execution_count": 14,
   "metadata": {},
   "outputs": [
    {
     "name": "stdout",
     "output_type": "stream",
     "text": [
      "Alice\n",
      "4.0\n"
     ]
    }
   ],
   "source": [
    "student1 = {\n",
    "    \"id\": 1,\n",
    "    \"name\": \"Alice\",\n",
    "    \"age\": 23,\n",
    "    \"gender\": \"Female\",\n",
    "    \"grade\": 3.8\n",
    "}\n",
    "\n",
    "# modify grade\n",
    "student1['grade'] = 4.0\n",
    "\n",
    "print(student1[\"name\"])  # Output: \"Alice\"\n",
    "print(student1['grade'])"
   ]
  },
  {
   "cell_type": "code",
   "execution_count": 13,
   "metadata": {},
   "outputs": [
    {
     "name": "stdout",
     "output_type": "stream",
     "text": [
      "{'id': 1, 'name': 'Alice', 'age': 23, 'gender': 'Female', 'grade': 3.9}\n"
     ]
    }
   ],
   "source": [
    "# modify grade\n",
    "student1[\"grade\"] = 3.9\n",
    "\n",
    "print(student1)"
   ]
  }
 ],
 "metadata": {
  "kernelspec": {
   "display_name": "Python 3",
   "language": "python",
   "name": "python3"
  },
  "language_info": {
   "codemirror_mode": {
    "name": "ipython",
    "version": 3
   },
   "file_extension": ".py",
   "mimetype": "text/x-python",
   "name": "python",
   "nbconvert_exporter": "python",
   "pygments_lexer": "ipython3",
   "version": "3.11.1"
  },
  "orig_nbformat": 4,
  "vscode": {
   "interpreter": {
    "hash": "aee8b7b246df8f9039afb4144a1f6fd8d2ca17a180786b69acc140d282b71a49"
   }
  }
 },
 "nbformat": 4,
 "nbformat_minor": 2
}
